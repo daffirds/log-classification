{
 "cells": [
  {
   "cell_type": "code",
   "execution_count": 1,
   "id": "f104111b",
   "metadata": {},
   "outputs": [],
   "source": [
    "import pandas as pd\n",
    "\n",
    "from sklearn.cluster import DBSCAN\n",
    "from sentence_transformers import SentenceTransformer\n",
    "\n",
    "from IPython.core.interactiveshell import InteractiveShell"
   ]
  },
  {
   "cell_type": "markdown",
   "id": "e8e40875",
   "metadata": {},
   "source": [
    "### Data Exploration"
   ]
  },
  {
   "cell_type": "code",
   "execution_count": 2,
   "id": "be5c4d64",
   "metadata": {},
   "outputs": [
    {
     "data": {
      "text/html": [
       "<div>\n",
       "<style scoped>\n",
       "    .dataframe tbody tr th:only-of-type {\n",
       "        vertical-align: middle;\n",
       "    }\n",
       "\n",
       "    .dataframe tbody tr th {\n",
       "        vertical-align: top;\n",
       "    }\n",
       "\n",
       "    .dataframe thead th {\n",
       "        text-align: right;\n",
       "    }\n",
       "</style>\n",
       "<table border=\"1\" class=\"dataframe\">\n",
       "  <thead>\n",
       "    <tr style=\"text-align: right;\">\n",
       "      <th></th>\n",
       "      <th>source</th>\n",
       "      <th>log_message</th>\n",
       "      <th>target_label</th>\n",
       "    </tr>\n",
       "  </thead>\n",
       "  <tbody>\n",
       "    <tr>\n",
       "      <th>60</th>\n",
       "      <td>LegacyCRM</td>\n",
       "      <td>Lead conversion failed for prospect ID 7842 du...</td>\n",
       "      <td>Workflow Error</td>\n",
       "    </tr>\n",
       "    <tr>\n",
       "      <th>255</th>\n",
       "      <td>LegacyCRM</td>\n",
       "      <td>API endpoint 'getCustomerDetails' is deprecate...</td>\n",
       "      <td>Deprecation Warning</td>\n",
       "    </tr>\n",
       "    <tr>\n",
       "      <th>377</th>\n",
       "      <td>LegacyCRM</td>\n",
       "      <td>Customer follow-up process for lead ID 5621 fa...</td>\n",
       "      <td>Workflow Error</td>\n",
       "    </tr>\n",
       "    <tr>\n",
       "      <th>1325</th>\n",
       "      <td>LegacyCRM</td>\n",
       "      <td>Escalation rule execution failed for ticket ID...</td>\n",
       "      <td>Workflow Error</td>\n",
       "    </tr>\n",
       "    <tr>\n",
       "      <th>1734</th>\n",
       "      <td>LegacyCRM</td>\n",
       "      <td>The 'ExportToCSV' feature is outdated. Please ...</td>\n",
       "      <td>Deprecation Warning</td>\n",
       "    </tr>\n",
       "    <tr>\n",
       "      <th>1826</th>\n",
       "      <td>LegacyCRM</td>\n",
       "      <td>Support for legacy authentication methods will...</td>\n",
       "      <td>Deprecation Warning</td>\n",
       "    </tr>\n",
       "    <tr>\n",
       "      <th>2217</th>\n",
       "      <td>LegacyCRM</td>\n",
       "      <td>Task assignment for TeamID 3425 could not comp...</td>\n",
       "      <td>Workflow Error</td>\n",
       "    </tr>\n",
       "  </tbody>\n",
       "</table>\n",
       "</div>"
      ],
      "text/plain": [
       "         source                                        log_message  \\\n",
       "60    LegacyCRM  Lead conversion failed for prospect ID 7842 du...   \n",
       "255   LegacyCRM  API endpoint 'getCustomerDetails' is deprecate...   \n",
       "377   LegacyCRM  Customer follow-up process for lead ID 5621 fa...   \n",
       "1325  LegacyCRM  Escalation rule execution failed for ticket ID...   \n",
       "1734  LegacyCRM  The 'ExportToCSV' feature is outdated. Please ...   \n",
       "1826  LegacyCRM  Support for legacy authentication methods will...   \n",
       "2217  LegacyCRM  Task assignment for TeamID 3425 could not comp...   \n",
       "\n",
       "             target_label  \n",
       "60         Workflow Error  \n",
       "255   Deprecation Warning  \n",
       "377        Workflow Error  \n",
       "1325       Workflow Error  \n",
       "1734  Deprecation Warning  \n",
       "1826  Deprecation Warning  \n",
       "2217       Workflow Error  "
      ]
     },
     "execution_count": 2,
     "metadata": {},
     "output_type": "execute_result"
    }
   ],
   "source": [
    "InteractiveShell.ast_node_interactivity = \"all\"\n",
    "\n",
    "df = pd.read_csv(\"../datasets/labeled_logs.csv\")[['source', 'log_message', 'target_label']]\n",
    "df.head()\n",
    "df.shape\n",
    "df['source'].value_counts()\n",
    "df['target_label'].value_counts()\n",
    "df[df['source']=='LegacyCRM']"
   ]
  },
  {
   "cell_type": "code",
   "execution_count": 3,
   "id": "210c5da7",
   "metadata": {},
   "outputs": [],
   "source": [
    "InteractiveShell.ast_node_interactivity = \"last\"\n",
    "\n",
    "model = SentenceTransformer('all-MiniLM-L6-v2')  # embedding model\n",
    "df2 = df[~df['target_label'].isin(['Workflow Error', 'Deprecation Warning'])].copy() # these two labels are too few to be trained on, llm will be used to classify the LegacyCRM logs\n",
    "embeddings = model.encode(df2['log_message'].tolist())"
   ]
  },
  {
   "cell_type": "code",
   "execution_count": 4,
   "id": "97097793",
   "metadata": {},
   "outputs": [],
   "source": [
    "clustering = DBSCAN(eps=0.1, min_samples=1, metric='cosine').fit(embeddings)\n",
    "df2['cluster'] = clustering.labels_"
   ]
  },
  {
   "cell_type": "code",
   "execution_count": 5,
   "id": "95003310",
   "metadata": {},
   "outputs": [
    {
     "name": "stdout",
     "output_type": "stream",
     "text": [
      "- cluster 0:\n",
      "- cluster 16:\n",
      "- cluster 15:\n",
      "- cluster 5:\n",
      "- cluster 9:\n",
      "- cluster 27:\n",
      "- cluster 13:\n",
      "- cluster 4:\n",
      "- cluster 44:\n",
      "- cluster 20:\n",
      "- cluster 11:\n",
      "- cluster 31:\n",
      "- cluster 3:\n",
      "- cluster 21:\n",
      "- cluster 32:\n",
      "- cluster 51:\n",
      "- cluster 23:\n",
      "- cluster 90:\n",
      "- cluster 12:\n",
      "- cluster 56:\n",
      "- cluster 58:\n",
      "- cluster 105:\n",
      "- cluster 36:\n",
      "- cluster 82:\n",
      "- cluster 35:\n",
      "- cluster 71:\n",
      "- cluster 7:\n",
      "- cluster 179:\n",
      "Failed clusters: [188, 1, 73]\n"
     ]
    }
   ],
   "source": [
    "InteractiveShell.ast_node_interactivity = \"all\"\n",
    "\n",
    "df2.head()\n",
    "vc = df2['cluster'].value_counts()\n",
    "failed_clusters = [] # clusters with mixed labels\n",
    "\n",
    "for cluster_id in vc.index.tolist():\n",
    "    if df2[df2['cluster'] == cluster_id]['target_label'].nunique() == 1 and vc[cluster_id] > 5:\n",
    "        print(f\"- cluster {cluster_id}:\")\n",
    "        df2[df2['cluster'] == cluster_id][['log_message','target_label']].head(3)\n",
    "    elif df2[df2['cluster'] == cluster_id]['target_label'].nunique() > 1:\n",
    "        failed_clusters.append(cluster_id)\n",
    "print(\"Failed clusters:\", failed_clusters)"
   ]
  },
  {
   "cell_type": "markdown",
   "id": "5b0e5cd1",
   "metadata": {},
   "source": [
    "I will remove the failed clusters to improve the BERT model."
   ]
  },
  {
   "cell_type": "code",
   "execution_count": 6,
   "id": "ac73b1cd",
   "metadata": {},
   "outputs": [
    {
     "data": {
      "text/plain": [
       "(2389, 3)"
      ]
     },
     "execution_count": 6,
     "metadata": {},
     "output_type": "execute_result"
    }
   ],
   "source": [
    "newdf = df2[~df2['cluster'].isin(failed_clusters)][['source','log_message', 'target_label']].copy()\n",
    "newdf.shape\n",
    "newdf.to_csv(\"../datasets/cleaned_data_for_bert.csv\", index=False)\n",
    "df[df['source']=='LegacyCRM'].to_csv(\"../datasets/cleaned_data_for_llm.csv\", index=False)"
   ]
  }
 ],
 "metadata": {
  "kernelspec": {
   "display_name": "Python 3",
   "language": "python",
   "name": "python3"
  },
  "language_info": {
   "codemirror_mode": {
    "name": "ipython",
    "version": 3
   },
   "file_extension": ".py",
   "mimetype": "text/x-python",
   "name": "python",
   "nbconvert_exporter": "python",
   "pygments_lexer": "ipython3",
   "version": "3.11.9"
  }
 },
 "nbformat": 4,
 "nbformat_minor": 5
}
