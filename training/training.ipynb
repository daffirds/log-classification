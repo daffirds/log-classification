{
 "cells": [
  {
   "cell_type": "code",
   "execution_count": 1,
   "id": "d34698ab",
   "metadata": {},
   "outputs": [],
   "source": [
    "from dotenv import load_dotenv\n",
    "load_dotenv()\n",
    "\n",
    "import pandas as pd\n",
    "from sentence_transformers import SentenceTransformer\n",
    "from sklearn.model_selection import train_test_split\n",
    "from sklearn.linear_model import LogisticRegression\n",
    "from sklearn.metrics import accuracy_score\n",
    "from sklearn.metrics import classification_report\n",
    "import joblib"
   ]
  },
  {
   "cell_type": "markdown",
   "id": "96535913",
   "metadata": {},
   "source": [
    "### BERT Training"
   ]
  },
  {
   "cell_type": "code",
   "execution_count": 2,
   "id": "76b000ba",
   "metadata": {},
   "outputs": [
    {
     "data": {
      "text/html": [
       "<div>\n",
       "<style scoped>\n",
       "    .dataframe tbody tr th:only-of-type {\n",
       "        vertical-align: middle;\n",
       "    }\n",
       "\n",
       "    .dataframe tbody tr th {\n",
       "        vertical-align: top;\n",
       "    }\n",
       "\n",
       "    .dataframe thead th {\n",
       "        text-align: right;\n",
       "    }\n",
       "</style>\n",
       "<table border=\"1\" class=\"dataframe\">\n",
       "  <thead>\n",
       "    <tr style=\"text-align: right;\">\n",
       "      <th></th>\n",
       "      <th>source</th>\n",
       "      <th>log_message</th>\n",
       "      <th>target_label</th>\n",
       "    </tr>\n",
       "  </thead>\n",
       "  <tbody>\n",
       "    <tr>\n",
       "      <th>0</th>\n",
       "      <td>ModernCRM</td>\n",
       "      <td>nova.osapi_compute.wsgi.server [req-b9718cd8-f...</td>\n",
       "      <td>HTTP Status</td>\n",
       "    </tr>\n",
       "    <tr>\n",
       "      <th>1</th>\n",
       "      <td>AnalyticsEngine</td>\n",
       "      <td>Unauthorized access to data was attempted</td>\n",
       "      <td>Security Alert</td>\n",
       "    </tr>\n",
       "    <tr>\n",
       "      <th>2</th>\n",
       "      <td>ModernHR</td>\n",
       "      <td>nova.osapi_compute.wsgi.server [req-4895c258-b...</td>\n",
       "      <td>HTTP Status</td>\n",
       "    </tr>\n",
       "    <tr>\n",
       "      <th>3</th>\n",
       "      <td>BillingSystem</td>\n",
       "      <td>nova.osapi_compute.wsgi.server [req-ee8bc8ba-9...</td>\n",
       "      <td>HTTP Status</td>\n",
       "    </tr>\n",
       "    <tr>\n",
       "      <th>4</th>\n",
       "      <td>ModernHR</td>\n",
       "      <td>nova.osapi_compute.wsgi.server [req-f0bffbc3-5...</td>\n",
       "      <td>HTTP Status</td>\n",
       "    </tr>\n",
       "    <tr>\n",
       "      <th>...</th>\n",
       "      <td>...</td>\n",
       "      <td>...</td>\n",
       "      <td>...</td>\n",
       "    </tr>\n",
       "    <tr>\n",
       "      <th>2384</th>\n",
       "      <td>ModernHR</td>\n",
       "      <td>nova.osapi_compute.wsgi.server [req-96c3ec98-2...</td>\n",
       "      <td>HTTP Status</td>\n",
       "    </tr>\n",
       "    <tr>\n",
       "      <th>2385</th>\n",
       "      <td>ModernHR</td>\n",
       "      <td>User 3844 account experienced multiple failed ...</td>\n",
       "      <td>Security Alert</td>\n",
       "    </tr>\n",
       "    <tr>\n",
       "      <th>2386</th>\n",
       "      <td>ThirdPartyAPI</td>\n",
       "      <td>nova.metadata.wsgi.server [req-b6d4a270-accb-4...</td>\n",
       "      <td>HTTP Status</td>\n",
       "    </tr>\n",
       "    <tr>\n",
       "      <th>2387</th>\n",
       "      <td>BillingSystem</td>\n",
       "      <td>Email service affected by failed transmission</td>\n",
       "      <td>Critical Error</td>\n",
       "    </tr>\n",
       "    <tr>\n",
       "      <th>2388</th>\n",
       "      <td>AnalyticsEngine</td>\n",
       "      <td>Repeated failed login attempts occurred for us...</td>\n",
       "      <td>Security Alert</td>\n",
       "    </tr>\n",
       "  </tbody>\n",
       "</table>\n",
       "<p>2389 rows × 3 columns</p>\n",
       "</div>"
      ],
      "text/plain": [
       "               source                                        log_message  \\\n",
       "0           ModernCRM  nova.osapi_compute.wsgi.server [req-b9718cd8-f...   \n",
       "1     AnalyticsEngine          Unauthorized access to data was attempted   \n",
       "2            ModernHR  nova.osapi_compute.wsgi.server [req-4895c258-b...   \n",
       "3       BillingSystem  nova.osapi_compute.wsgi.server [req-ee8bc8ba-9...   \n",
       "4            ModernHR  nova.osapi_compute.wsgi.server [req-f0bffbc3-5...   \n",
       "...               ...                                                ...   \n",
       "2384         ModernHR  nova.osapi_compute.wsgi.server [req-96c3ec98-2...   \n",
       "2385         ModernHR  User 3844 account experienced multiple failed ...   \n",
       "2386    ThirdPartyAPI  nova.metadata.wsgi.server [req-b6d4a270-accb-4...   \n",
       "2387    BillingSystem      Email service affected by failed transmission   \n",
       "2388  AnalyticsEngine  Repeated failed login attempts occurred for us...   \n",
       "\n",
       "        target_label  \n",
       "0        HTTP Status  \n",
       "1     Security Alert  \n",
       "2        HTTP Status  \n",
       "3        HTTP Status  \n",
       "4        HTTP Status  \n",
       "...              ...  \n",
       "2384     HTTP Status  \n",
       "2385  Security Alert  \n",
       "2386     HTTP Status  \n",
       "2387  Critical Error  \n",
       "2388  Security Alert  \n",
       "\n",
       "[2389 rows x 3 columns]"
      ]
     },
     "execution_count": 2,
     "metadata": {},
     "output_type": "execute_result"
    }
   ],
   "source": [
    "df = pd.read_csv(\"../datasets/cleaned_data_for_bert.csv\")\n",
    "df"
   ]
  },
  {
   "cell_type": "code",
   "execution_count": 3,
   "id": "a64e310d",
   "metadata": {},
   "outputs": [
    {
     "data": {
      "text/plain": [
       "(2389, 384)"
      ]
     },
     "execution_count": 3,
     "metadata": {},
     "output_type": "execute_result"
    }
   ],
   "source": [
    "model = SentenceTransformer('all-MiniLM-L6-v2')  # Lightweight embedding model\n",
    "embeddings_filtered = model.encode(df['log_message'].tolist())\n",
    "embeddings_filtered.shape"
   ]
  },
  {
   "cell_type": "code",
   "execution_count": 4,
   "id": "16af805f",
   "metadata": {},
   "outputs": [
    {
     "name": "stdout",
     "output_type": "stream",
     "text": [
      "                     precision    recall  f1-score   support\n",
      "\n",
      "     Critical Error       0.98      0.98      0.98        56\n",
      "              Error       0.98      0.98      0.98        57\n",
      "        HTTP Status       1.00      1.00      1.00       289\n",
      "     Resource Usage       1.00      1.00      1.00        52\n",
      "     Security Alert       1.00      1.00      1.00       120\n",
      "System Notification       1.00      1.00      1.00        97\n",
      "        User Action       1.00      1.00      1.00        46\n",
      "\n",
      "           accuracy                           1.00       717\n",
      "          macro avg       0.99      0.99      0.99       717\n",
      "       weighted avg       1.00      1.00      1.00       717\n",
      "\n"
     ]
    }
   ],
   "source": [
    "X = embeddings_filtered\n",
    "y = df['target_label']\n",
    "X_train, X_test, y_train, y_test = train_test_split(X, y, test_size=0.3, random_state=67)\n",
    "classifier = LogisticRegression(max_iter=1000)\n",
    "classifier.fit(X_train, y_train)\n",
    "y_pred = classifier.predict(X_test)\n",
    "report = classification_report(y_test, y_pred)\n",
    "print(report)"
   ]
  },
  {
   "cell_type": "markdown",
   "id": "de5800aa",
   "metadata": {},
   "source": [
    "Lol what an accuracy, the only wrong prediction just at classifying between critical error and error. "
   ]
  },
  {
   "cell_type": "code",
   "execution_count": 5,
   "id": "8a7869ed",
   "metadata": {},
   "outputs": [
    {
     "data": {
      "text/plain": [
       "['../models/bert_model.joblib']"
      ]
     },
     "execution_count": 5,
     "metadata": {},
     "output_type": "execute_result"
    }
   ],
   "source": [
    "joblib.dump(classifier, '../models/bert_model.joblib')"
   ]
  }
 ],
 "metadata": {
  "kernelspec": {
   "display_name": "Python 3",
   "language": "python",
   "name": "python3"
  },
  "language_info": {
   "codemirror_mode": {
    "name": "ipython",
    "version": 3
   },
   "file_extension": ".py",
   "mimetype": "text/x-python",
   "name": "python",
   "nbconvert_exporter": "python",
   "pygments_lexer": "ipython3",
   "version": "3.11.9"
  }
 },
 "nbformat": 4,
 "nbformat_minor": 5
}
